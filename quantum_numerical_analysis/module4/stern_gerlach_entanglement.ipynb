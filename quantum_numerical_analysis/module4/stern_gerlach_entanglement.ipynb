{
 "cells": [
  {
   "cell_type": "code",
   "execution_count": 1,
   "metadata": {},
   "outputs": [],
   "source": [
    "import numpy as np\n",
    "import matplotlib.pyplot as plt\n",
    "from scipy.linalg import expm"
   ]
  },
  {
   "cell_type": "markdown",
   "metadata": {},
   "source": [
    "# Entanglement in the Stern-Gerlach Experiment\n",
    "In this problem we want to consider Stern-Gerlach experiment with a more realistic approach.\n",
    "Assume the electrons are shot towards the apparatus. The hamiltonian is as follows:\n",
    "\n",
    "$H = \\frac{P_z^2}{2m} - \\mu \\lambda z \\sigma_z$\n",
    "\n",
    "\n",
    "where the second term is from the interaction of the spin of the electron with the linear magnetic field.\n",
    "\n",
    "The state of the system is a member of the tensor product space of spin and z-space. Let's make a concrete\n",
    "z-space of 501 sites with $a = 0.01$ where he middle site is for $z=0$. Then, the state is a vector with 1002\n",
    "coefficients.\n",
    "\n",
    "For making the evolution matrix let's take the time steps to be $\\epsilon = 0.01$ and $\\hbar = 1$. \n",
    "Also let's assume $\\mu \\lambda = 1, m = 1$."
   ]
  },
  {
   "cell_type": "code",
   "execution_count": 2,
   "metadata": {},
   "outputs": [
    {
     "data": {
      "text/plain": [
       "matrix([[ 1.,  0.,  0., ...,  0.,  0.,  0.],\n",
       "        [ 0.,  1.,  0., ...,  0.,  0.,  0.],\n",
       "        [ 0.,  0.,  1., ...,  0.,  0.,  0.],\n",
       "        ...,\n",
       "        [ 0.,  0.,  0., ..., -1., -0., -0.],\n",
       "        [ 0.,  0.,  0., ..., -0., -1., -0.],\n",
       "        [ 0.,  0.,  0., ..., -0., -0., -1.]])"
      ]
     },
     "execution_count": 2,
     "metadata": {},
     "output_type": "execute_result"
    }
   ],
   "source": [
    "# constants\n",
    "mu_lambda = 0.05\n",
    "n = 501\n",
    "a = 0.01\n",
    "m = 1\n",
    "epsilon = 0.01\n",
    "\n",
    "# the z-space operator\n",
    "z_op = np.asmatrix(np.kron(np.diag(np.linspace(-2.5, 2.5, 501)), np.eye(2)))\n",
    "\n",
    "# spin operator\n",
    "z_pauli = np.kron(np.matrix([[1, 0], [0, -1]]), np.eye(n))\n",
    "z_pauli"
   ]
  },
  {
   "cell_type": "code",
   "execution_count": 3,
   "metadata": {},
   "outputs": [
    {
     "data": {
      "text/plain": [
       "(1002, 1002)"
      ]
     },
     "execution_count": 3,
     "metadata": {},
     "output_type": "execute_result"
    }
   ],
   "source": [
    "## making the momentum operator\n",
    "# making shift_op\n",
    "shift_op = np.eye(n, k=1)\n",
    "shift_op[n-1, 0] = 1\n",
    "shift_op = np.asmatrix(shift_op)\n",
    "\n",
    "# diagonalizing the shift_op\n",
    "vals, vecs = np.linalg.eig(shift_op)\n",
    "\n",
    "# making P\n",
    "P = vecs * np.diag(np.angle(vals)) * vecs.H / a\n",
    "P = np.kron(P, np.eye(2))\n",
    "P.shape"
   ]
  },
  {
   "cell_type": "code",
   "execution_count": 4,
   "metadata": {},
   "outputs": [
    {
     "data": {
      "text/plain": [
       "(1002, 1002)"
      ]
     },
     "execution_count": 4,
     "metadata": {},
     "output_type": "execute_result"
    }
   ],
   "source": [
    "H = P ** 2 / (2 * m) - mu_lambda * z_op * z_pauli\n",
    "H.shape"
   ]
  },
  {
   "cell_type": "markdown",
   "metadata": {},
   "source": [
    "Now we have the hamiltonian, let's generate the evolution operator $U = \\exp(-i H \\epsilon$, taking $\\hbar=1$."
   ]
  },
  {
   "cell_type": "code",
   "execution_count": 5,
   "metadata": {},
   "outputs": [
    {
     "data": {
      "text/plain": [
       "matrix([[0.02764122-0.03034474j, 0.        +0.j        ,\n",
       "         0.02884795-0.02600231j, ..., 0.        +0.j        ,\n",
       "         0.02884793-0.02600231j, 0.        +0.j        ],\n",
       "        [0.        +0.j        , 0.02764122-0.03034474j,\n",
       "         0.        +0.j        , ..., 0.02820039-0.02977587j,\n",
       "         0.        +0.j        , 0.02884793-0.02600231j],\n",
       "        [0.02884795-0.02600231j, 0.        +0.j        ,\n",
       "         0.02764127-0.03034474j, ..., 0.        +0.j        ,\n",
       "         0.02820039-0.02977587j, 0.        +0.j        ],\n",
       "        ...,\n",
       "        [0.        +0.j        , 0.02820039-0.02977587j,\n",
       "         0.        +0.j        , ..., 0.02764127-0.03034474j,\n",
       "         0.        +0.j        , 0.02884795-0.02600231j],\n",
       "        [0.02884793-0.02600231j, 0.        +0.j        ,\n",
       "         0.02820039-0.02977587j, ..., 0.        +0.j        ,\n",
       "         0.02764122-0.03034474j, 0.        +0.j        ],\n",
       "        [0.        +0.j        , 0.02884793-0.02600231j,\n",
       "         0.        +0.j        , ..., 0.02884795-0.02600231j,\n",
       "         0.        +0.j        , 0.02764122-0.03034474j]])"
      ]
     },
     "execution_count": 5,
     "metadata": {},
     "output_type": "execute_result"
    }
   ],
   "source": [
    "evolution = expm(-1j * H * epsilon)\n",
    "evolution = np.asmatrix(evolution)\n",
    "evolution"
   ]
  },
  {
   "cell_type": "markdown",
   "metadata": {},
   "source": [
    "## Section A\n",
    "Let's take the initial state to be at $z = 0$ and spin up. Let's find the evolution to $t=10$"
   ]
  },
  {
   "cell_type": "code",
   "execution_count": 6,
   "metadata": {},
   "outputs": [
    {
     "data": {
      "text/plain": [
       "(1002, 1)"
      ]
     },
     "execution_count": 6,
     "metadata": {},
     "output_type": "execute_result"
    }
   ],
   "source": [
    "# making the z=0 state in z-space\n",
    "z_0 = np.zeros((501, 1))\n",
    "z_0[250, 0] = 1\n",
    "z_0 = np.asmatrix(z_0)\n",
    "\n",
    "# making the spin up state in spin space\n",
    "spin_up = np.array([[1], [0]])\n",
    "\n",
    "# making the initial state of the system.\n",
    "init_state = np.kron(z_0, spin_up)\n",
    "\n",
    "init_state.shape"
   ]
  },
  {
   "cell_type": "code",
   "execution_count": 7,
   "metadata": {},
   "outputs": [
    {
     "data": {
      "text/plain": [
       "matrix([[ 0.0430532 +0.00192862j],\n",
       "        [ 0.        +0.j        ],\n",
       "        [-0.01858411-0.04259706j],\n",
       "        ...,\n",
       "        [ 0.        +0.j        ],\n",
       "        [ 0.0430532 +0.00192862j],\n",
       "        [ 0.        +0.j        ]])"
      ]
     },
     "execution_count": 7,
     "metadata": {},
     "output_type": "execute_result"
    }
   ],
   "source": [
    "# now to evolve the system to t = 10 = 1000 * epsilon\n",
    "state = init_state\n",
    "\n",
    "for _ in range(1000):\n",
    "    state = evolution * state\n",
    "    \n",
    "state"
   ]
  },
  {
   "cell_type": "markdown",
   "metadata": {},
   "source": [
    "## Section B\n",
    "Now for state $z=0$ and spin down. We follow the same procedure:"
   ]
  },
  {
   "cell_type": "code",
   "execution_count": 8,
   "metadata": {},
   "outputs": [
    {
     "data": {
      "text/plain": [
       "(1002, 1)"
      ]
     },
     "execution_count": 8,
     "metadata": {},
     "output_type": "execute_result"
    }
   ],
   "source": [
    "# making spin down in the spin space\n",
    "spin_down = np.matrix([[0], [1]])\n",
    "\n",
    "\n",
    "# making initial state\n",
    "init_state = np.kron(z_0, spin_down)\n",
    "init_state.shape"
   ]
  },
  {
   "cell_type": "code",
   "execution_count": 9,
   "metadata": {},
   "outputs": [
    {
     "data": {
      "text/plain": [
       "matrix([[ 0.        +0.j        ],\n",
       "        [ 0.0430532 +0.00192862j],\n",
       "        [ 0.        +0.j        ],\n",
       "        ...,\n",
       "        [-0.01858411-0.04259706j],\n",
       "        [ 0.        +0.j        ],\n",
       "        [ 0.0430532 +0.00192862j]])"
      ]
     },
     "execution_count": 9,
     "metadata": {},
     "output_type": "execute_result"
    }
   ],
   "source": [
    "# now we evolve the system\n",
    "state = init_state\n",
    "\n",
    "for _ in range(1000):\n",
    "    state = evolution * state\n",
    "\n",
    "state"
   ]
  },
  {
   "cell_type": "markdown",
   "metadata": {},
   "source": [
    "## Section C\n",
    "Now we try $z = 0$ and spin up in the x axis. In the spin space, this state is given as:\n",
    "$|x, +> = \\frac{1}{\\sqrt{2}} (1, 1)^t$"
   ]
  },
  {
   "cell_type": "code",
   "execution_count": 10,
   "metadata": {},
   "outputs": [
    {
     "data": {
      "text/plain": [
       "(1002, 1)"
      ]
     },
     "execution_count": 10,
     "metadata": {},
     "output_type": "execute_result"
    }
   ],
   "source": [
    "# making spin +x\n",
    "spin_x_up = np.matrix([[1], [1]]) / (2 ** 0.5)\n",
    "\n",
    "# making the initial state\n",
    "init_state = np.kron(z_0, spin_x_up)\n",
    "init_state.shape"
   ]
  },
  {
   "cell_type": "code",
   "execution_count": 11,
   "metadata": {},
   "outputs": [
    {
     "data": {
      "text/plain": [
       "matrix([[ 0.03044321+0.00136374j],\n",
       "        [ 0.03044321+0.00136374j],\n",
       "        [-0.01314095-0.03012067j],\n",
       "        ...,\n",
       "        [-0.01314095-0.03012067j],\n",
       "        [ 0.03044321+0.00136374j],\n",
       "        [ 0.03044321+0.00136374j]])"
      ]
     },
     "execution_count": 11,
     "metadata": {},
     "output_type": "execute_result"
    }
   ],
   "source": [
    "# evolve the state to t = 10\n",
    "state = init_state\n",
    "\n",
    "for _ in range(1000):\n",
    "    state = evolution * state\n",
    "    \n",
    "state"
   ]
  },
  {
   "cell_type": "code",
   "execution_count": 12,
   "metadata": {},
   "outputs": [
    {
     "data": {
      "image/png": "[encoded data removed]",
      "text/plain": [
       "<Figure size 432x288 with 1 Axes>"
      ]
     },
     "metadata": {
      "needs_background": "light"
     },
     "output_type": "display_data"
    }
   ],
   "source": [
    "plt.plot(np.linspace(0, 1001, 1002), np.absolute(np.array(state)[:, 0]) ** 2)\n",
    "plt.show()"
   ]
  },
  {
   "cell_type": "markdown",
   "metadata": {},
   "source": [
    "Now let's check to see if this final state is entangled.\n",
    "In order to do this, we need to generate the density operator of the state and take the trace.\n",
    "\n",
    "If the trace is less than 1, then the state is entangled.\n",
    "\n",
    "$\\hat{\\rho} = |\\psi><\\psi|, tr(\\hat{\\rho}) \\leq 1$"
   ]
  },
  {
   "cell_type": "code",
   "execution_count": 13,
   "metadata": {},
   "outputs": [
    {
     "data": {
      "text/plain": [
       "matrix([[ 0.00092865+4.85781435e-22j,  0.00092865+2.06671152e-15j,\n",
       "         -0.00044113+8.99049144e-04j, ..., -0.00044113+8.99049144e-04j,\n",
       "          0.00092865+1.84090753e-16j,  0.00092865+7.18778607e-16j],\n",
       "        [ 0.00092865-2.06671274e-15j,  0.00092865-1.70774817e-21j,\n",
       "         -0.00044113+8.99049144e-04j, ..., -0.00044113+8.99049144e-04j,\n",
       "          0.00092865-1.88261543e-15j,  0.00092865-1.34793435e-15j],\n",
       "        [-0.00044113-8.99049144e-04j, -0.00044113-8.99049144e-04j,\n",
       "          0.00107994-8.13474879e-21j, ...,  0.00107994+1.68675933e-15j,\n",
       "         -0.00044113-8.99049144e-04j, -0.00044113-8.99049144e-04j],\n",
       "        ...,\n",
       "        [-0.00044113-8.99049144e-04j, -0.00044113-8.99049144e-04j,\n",
       "          0.00107994-1.68674753e-15j, ...,  0.00107994+0.00000000e+00j,\n",
       "         -0.00044113-8.99049144e-04j, -0.00044113-8.99049144e-04j],\n",
       "        [ 0.00092865-1.84090753e-16j,  0.00092865+1.88261543e-15j,\n",
       "         -0.00044113+8.99049144e-04j, ..., -0.00044113+8.99049144e-04j,\n",
       "          0.00092865+0.00000000e+00j,  0.00092865+5.34687854e-16j],\n",
       "        [ 0.00092865-7.18778607e-16j,  0.00092865+1.34793435e-15j,\n",
       "         -0.00044113+8.99049144e-04j, ..., -0.00044113+8.99049144e-04j,\n",
       "          0.00092865-5.34687854e-16j,  0.00092865+0.00000000e+00j]])"
      ]
     },
     "execution_count": 13,
     "metadata": {},
     "output_type": "execute_result"
    }
   ],
   "source": [
    "# generating the density operator\n",
    "density_op = state * state.H\n",
    "density_op"
   ]
  },
  {
   "cell_type": "code",
   "execution_count": 14,
   "metadata": {},
   "outputs": [
    {
     "data": {
      "text/plain": [
       "(0.9999999999968892+1.8004992160645519e-19j)"
      ]
     },
     "execution_count": 14,
     "metadata": {},
     "output_type": "execute_result"
    }
   ],
   "source": [
    "np.trace(density_op)"
   ]
  },
  {
   "cell_type": "markdown",
   "metadata": {},
   "source": [
    "?"
   ]
  }
 ],
 "metadata": {
  "kernelspec": {
   "display_name": "Python 3",
   "language": "python",
   "name": "python3"
  },
  "language_info": {
   "codemirror_mode": {
    "name": "ipython",
    "version": 3
   },
   "file_extension": ".py",
   "mimetype": "text/x-python",
   "name": "python",
   "nbconvert_exporter": "python",
   "pygments_lexer": "ipython3",
   "version": "3.8.3"
  }
 },
 "nbformat": 4,
 "nbformat_minor": 4
}
