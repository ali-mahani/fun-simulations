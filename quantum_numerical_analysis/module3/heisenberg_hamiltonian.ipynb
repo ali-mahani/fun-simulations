{
 "cells": [
  {
   "cell_type": "code",
   "execution_count": 1,
   "metadata": {},
   "outputs": [],
   "source": [
    "import numpy as np\n",
    "import matplotlib.pyplot as plt"
   ]
  },
  {
   "cell_type": "markdown",
   "metadata": {},
   "source": [
    "# The Heisenberg Hamiltonian"
   ]
  },
  {
   "cell_type": "markdown",
   "metadata": {},
   "source": [
    "## Section A\n",
    "Let's start with generating the spin operators for a particle with spin 1/2\n",
    "\n",
    "$S_x = \\frac{\\hbar}{2} \\sigma_x$ and same for y and z. $\\sigma_i$ are the pauli matrices"
   ]
  },
  {
   "cell_type": "code",
   "execution_count": 2,
   "metadata": {},
   "outputs": [
    {
     "name": "stdout",
     "output_type": "stream",
     "text": [
      "[[0. +0.j 0.5+0.j]\n",
      " [0.5+0.j 0. +0.j]] \n",
      "\n",
      "[[ 0.+0.j  -0.-0.5j]\n",
      " [ 0.+0.5j  0.+0.j ]] \n",
      "\n",
      "[[ 0.5+0.j  0. +0.j]\n",
      " [ 0. +0.j -0.5+0.j]] \n",
      "\n"
     ]
    }
   ],
   "source": [
    "S_x = np.matrix([[0, 1], [1, 0]], dtype=complex) / 2\n",
    "S_y = np.matrix([[0, -1j], [1j, 0]]) / 2\n",
    "S_z = np.matrix([[1, 0], [0, -1]], dtype=complex) / 2\n",
    "\n",
    "S = [S_x, S_y, S_z]\n",
    "\n",
    "for i in range(len(S)):\n",
    "    print(S[i], \"\\n\")"
   ]
  },
  {
   "cell_type": "markdown",
   "metadata": {},
   "source": [
    "## Section B\n",
    "Now consider a system of two particles. Let's create the spin operators for these two:\n",
    "\n",
    "$S_x^{(1)}, S_x^{(2)}$ and same for y and z.\n",
    "\n",
    "We have: $S_x^{(1)} = S_x \\otimes I$ and so one."
   ]
  },
  {
   "cell_type": "markdown",
   "metadata": {},
   "source": [
    "If you google \"*numpy tensor product*\" you come upon the method `np.kron()`"
   ]
  },
  {
   "cell_type": "code",
   "execution_count": 3,
   "metadata": {},
   "outputs": [
    {
     "name": "stdout",
     "output_type": "stream",
     "text": [
      "[[0. +0.j 0. +0.j 0.5+0.j 0. +0.j]\n",
      " [0. +0.j 0. +0.j 0. +0.j 0.5+0.j]\n",
      " [0.5+0.j 0. +0.j 0. +0.j 0. +0.j]\n",
      " [0. +0.j 0.5+0.j 0. +0.j 0. +0.j]] \n",
      "\n",
      "[[0. +0.j 0.5+0.j 0. +0.j 0. +0.j]\n",
      " [0.5+0.j 0. +0.j 0. +0.j 0. +0.j]\n",
      " [0. +0.j 0. +0.j 0. +0.j 0.5+0.j]\n",
      " [0. +0.j 0. +0.j 0.5+0.j 0. +0.j]] \n",
      "\n",
      "[[0.+0.j  0.+0.j  0.-0.5j 0.-0.j ]\n",
      " [0.+0.j  0.+0.j  0.-0.j  0.-0.5j]\n",
      " [0.+0.5j 0.+0.j  0.+0.j  0.+0.j ]\n",
      " [0.+0.j  0.+0.5j 0.+0.j  0.+0.j ]] \n",
      "\n",
      "[[0.+0.j  0.-0.5j 0.+0.j  0.-0.j ]\n",
      " [0.+0.5j 0.+0.j  0.+0.j  0.+0.j ]\n",
      " [0.+0.j  0.-0.j  0.+0.j  0.-0.5j]\n",
      " [0.+0.j  0.+0.j  0.+0.5j 0.+0.j ]] \n",
      "\n",
      "[[ 0.5+0.j  0. +0.j  0. +0.j  0. +0.j]\n",
      " [ 0. +0.j  0.5+0.j  0. +0.j  0. +0.j]\n",
      " [ 0. +0.j  0. +0.j -0.5+0.j -0. +0.j]\n",
      " [ 0. +0.j  0. +0.j -0. +0.j -0.5+0.j]] \n",
      "\n",
      "[[ 0.5+0.j  0. +0.j  0. +0.j  0. +0.j]\n",
      " [ 0. +0.j -0.5+0.j  0. +0.j -0. +0.j]\n",
      " [ 0. +0.j  0. +0.j  0.5+0.j  0. +0.j]\n",
      " [ 0. +0.j -0. +0.j  0. +0.j -0.5+0.j]] \n",
      "\n"
     ]
    }
   ],
   "source": [
    "S_two_particle = []    # make a list of the two particle spin operators\n",
    "\n",
    "for i in range(len(S)):    # fill in the list in order of x, y, z\n",
    "    S_two_particle.append(np.kron(S[i], np.eye(2)))    # first fill in S_i for particle 1\n",
    "    S_two_particle.append(np.kron(np.eye(2), S[i]))    # then for particle 2\n",
    "\n",
    "for S_two in S_two_particle:\n",
    "    print(S_two, \"\\n\")"
   ]
  },
  {
   "cell_type": "markdown",
   "metadata": {},
   "source": [
    "## Section C\n",
    "Now let's create the spin operators of the system, namingly: $S_x^{(1)}S_x^{(2)}$ and for y, z."
   ]
  },
  {
   "cell_type": "code",
   "execution_count": 4,
   "metadata": {},
   "outputs": [
    {
     "name": "stdout",
     "output_type": "stream",
     "text": [
      "[[0.  +0.j 0.  +0.j 0.  +0.j 0.25+0.j]\n",
      " [0.  +0.j 0.  +0.j 0.25+0.j 0.  +0.j]\n",
      " [0.  +0.j 0.25+0.j 0.  +0.j 0.  +0.j]\n",
      " [0.25+0.j 0.  +0.j 0.  +0.j 0.  +0.j]] \n",
      "\n",
      "[[ 0.  +0.j  0.  +0.j  0.  +0.j -0.25+0.j]\n",
      " [ 0.  +0.j  0.  +0.j  0.25+0.j  0.  +0.j]\n",
      " [ 0.  +0.j  0.25+0.j  0.  +0.j  0.  +0.j]\n",
      " [-0.25+0.j  0.  +0.j  0.  +0.j  0.  +0.j]] \n",
      "\n",
      "[[ 0.25+0.j  0.  +0.j  0.  +0.j  0.  +0.j]\n",
      " [ 0.  +0.j -0.25+0.j  0.  +0.j  0.  +0.j]\n",
      " [ 0.  +0.j  0.  +0.j -0.25+0.j  0.  +0.j]\n",
      " [ 0.  +0.j  0.  +0.j  0.  +0.j  0.25+0.j]] \n",
      "\n"
     ]
    }
   ],
   "source": [
    "S_system = []    # create a list for the spin operators. there's going to be three of them.\n",
    "\n",
    "for i in range(0, len(S_two_particle), 2):    #i = (0, 2, 4)\n",
    "    # S_x_12 = S_x_1 * S_x_2 and so on\n",
    "    S_system.append(S_two_particle[i] * S_two_particle[i+1])\n",
    "\n",
    "for item in S_system:\n",
    "    print(item, \"\\n\")"
   ]
  },
  {
   "cell_type": "markdown",
   "metadata": {},
   "source": [
    "Now let's create the two particle spin operators directly and compare them with\n",
    "the results from the method we used above.\n",
    "\n",
    "$S_x^{(1)}S_x^{(2)} = S_x \\otimes S_x$ and so on."
   ]
  },
  {
   "cell_type": "code",
   "execution_count": 5,
   "metadata": {},
   "outputs": [
    {
     "name": "stdout",
     "output_type": "stream",
     "text": [
      "[[ True  True  True  True]\n",
      " [ True  True  True  True]\n",
      " [ True  True  True  True]\n",
      " [ True  True  True  True]]\n",
      "[[ True  True  True  True]\n",
      " [ True  True  True  True]\n",
      " [ True  True  True  True]\n",
      " [ True  True  True  True]]\n",
      "[[ True  True  True  True]\n",
      " [ True  True  True  True]\n",
      " [ True  True  True  True]\n",
      " [ True  True  True  True]]\n"
     ]
    }
   ],
   "source": [
    "for i, item in enumerate(S):    # using the matrices in section A\n",
    "    print(S_system[i] == np.kron(item, item))    # compare the operators"
   ]
  },
  {
   "cell_type": "markdown",
   "metadata": {},
   "source": [
    "## Section D\n",
    "Now consider the heisenberg interaction of two site with one particle in each one. Let's find\n",
    "eigen values and eigen states of this hamiltonian for $J = 1$\n",
    "\n",
    "$H = J(S_x^{(1)}S_x^{(2)} + S_y^{(1)}S_y^{(2)} + S_z^{(1)}S_z^{(2)})$"
   ]
  },
  {
   "cell_type": "code",
   "execution_count": 6,
   "metadata": {},
   "outputs": [
    {
     "data": {
      "text/plain": [
       "matrix([[ 0.25+0.j,  0.  +0.j,  0.  +0.j,  0.  +0.j],\n",
       "        [ 0.  +0.j, -0.25+0.j,  0.5 +0.j,  0.  +0.j],\n",
       "        [ 0.  +0.j,  0.5 +0.j, -0.25+0.j,  0.  +0.j],\n",
       "        [ 0.  +0.j,  0.  +0.j,  0.  +0.j,  0.25+0.j]])"
      ]
     },
     "execution_count": 6,
     "metadata": {},
     "output_type": "execute_result"
    }
   ],
   "source": [
    "# generating the hamiltonian\n",
    "H = 0\n",
    "for item in S_system:\n",
    "    H += item\n",
    "\n",
    "H"
   ]
  },
  {
   "cell_type": "code",
   "execution_count": 7,
   "metadata": {},
   "outputs": [
    {
     "name": "stdout",
     "output_type": "stream",
     "text": [
      "eigen valuse are:  [-0.75  0.25  0.25  0.25]\n",
      "the 0th eigen state is:\n",
      " [[ 0.        +0.j]\n",
      " [ 0.70710678+0.j]\n",
      " [-0.70710678+0.j]\n",
      " [ 0.        +0.j]] \n",
      "\n",
      "the 1th eigen state is:\n",
      " [[1.+0.j]\n",
      " [0.+0.j]\n",
      " [0.+0.j]\n",
      " [0.+0.j]] \n",
      "\n",
      "the 2th eigen state is:\n",
      " [[0.        +0.j]\n",
      " [0.70710678+0.j]\n",
      " [0.70710678+0.j]\n",
      " [0.        +0.j]] \n",
      "\n",
      "the 3th eigen state is:\n",
      " [[0.+0.j]\n",
      " [0.+0.j]\n",
      " [0.+0.j]\n",
      " [1.+0.j]] \n",
      "\n"
     ]
    }
   ],
   "source": [
    "# diagonalizing the hamiltonian\n",
    "vals, vecs = np.linalg.eigh(H)\n",
    "\n",
    "print(\"eigen valuse are: \", vals)\n",
    "\n",
    "for i in range(len(vecs)):\n",
    "    print(f\"the {i}th eigen state is:\\n\", vecs[:, i], \"\\n\")"
   ]
  },
  {
   "cell_type": "markdown",
   "metadata": {},
   "source": [
    "noting that $\\frac{1}{\\sqrt{2}} = 0.7071$ we see the results match the theory."
   ]
  },
  {
   "cell_type": "markdown",
   "metadata": {},
   "source": [
    "## Section E\n",
    "Now consider 10 particles placed in 10 sites in a row. Using the tensor product `np.kron` let's\n",
    "make the single particle spin operators $S_x^{(i)}$ and y, z for $i = 1, 2, ..., 10$"
   ]
  },
  {
   "cell_type": "code",
   "execution_count": 8,
   "metadata": {},
   "outputs": [],
   "source": [
    "def generate_spin(i):\n",
    "    \"\"\" generate the three spins x, y, z for the {i}th particle, i= 1, 2, ..., 10\"\"\"\n",
    "    S_list= []    # make a list of them.\n",
    "    for item in S:\n",
    "        S_list.append(np.kron(np.eye(2 ** i), np.kron(item, np.eye(2 ** (9 - i)))))\n",
    "    \n",
    "    return S_list[:]"
   ]
  },
  {
   "cell_type": "code",
   "execution_count": 9,
   "metadata": {},
   "outputs": [],
   "source": [
    "S_single_part = []    # make a list of single particle spins in order of x,y,z and 0, 1, ..., 9\n",
    "\n",
    "for i in range(0, 10):\n",
    "    item_x, item_y, item_z = generate_spin(i)\n",
    "    S_single_part.append(item_x)\n",
    "    S_single_part.append(item_y)\n",
    "    S_single_part.append(item_z)"
   ]
  },
  {
   "cell_type": "markdown",
   "metadata": {},
   "source": [
    "## Section F\n",
    "Now let's create the Heisenberg hamiltonian for this system with $J = 1$\n",
    "\n",
    "$H = \\sum_{i=1}^{9} S_x^{(i)} S_x^{(i+1)} + S_y^{(i)} S_y^{(i+1)} + S_z^{(i)} S_z^{(i+1)}$"
   ]
  },
  {
   "cell_type": "code",
   "execution_count": 10,
   "metadata": {},
   "outputs": [],
   "source": [
    "# generating the hamiltonian\n",
    "H = 0\n",
    "for i in range(3):    # order of x, y, z\n",
    "    for j in range(9):    # order of {i} = {0, 1, ..., 8}\n",
    "        H += S_single_part[i + 3*j] * S_single_part[i + 3 * (j+1)]"
   ]
  },
  {
   "cell_type": "markdown",
   "metadata": {},
   "source": [
    "## Section G\n",
    "Let's find the ground state and its energy"
   ]
  },
  {
   "cell_type": "code",
   "execution_count": 11,
   "metadata": {},
   "outputs": [
    {
     "name": "stdout",
     "output_type": "stream",
     "text": [
      "The ground energy is:  -4.258035207282884\n",
      "The ground state is \n",
      " [[0.+0.j]\n",
      " [0.+0.j]\n",
      " [0.+0.j]\n",
      " ...\n",
      " [0.+0.j]\n",
      " [0.+0.j]\n",
      " [0.+0.j]]\n"
     ]
    }
   ],
   "source": [
    "vals, vecs = np.linalg.eigh(H)     # diagonalizing the hamiltonian with sorted eigen values\n",
    "\n",
    "print(\"The ground energy is: \", vals[0])\n",
    "\n",
    "ground = vecs[:, 0]\n",
    "print(\"The ground state is \\n\", ground)\n"
   ]
  },
  {
   "cell_type": "markdown",
   "metadata": {},
   "source": [
    "## Section H\n",
    "Let's find the expectation values of $S_x^{(i)}$ and y, z for i from 1 to 10 and \n",
    "$S_x^{(i)} S_x^{(i+1)}$ and y, z for i from 1 to 9"
   ]
  },
  {
   "cell_type": "code",
   "execution_count": 59,
   "metadata": {},
   "outputs": [
    {
     "name": "stdout",
     "output_type": "stream",
     "text": [
      "[matrix([[2.62066912e-16+0.j]]), matrix([[-2.57817818e-16+0.j]]), matrix([[2.20797711e-17+0.j]]), matrix([[-1.34756867e-16+0.j]]), matrix([[-6.39991432e-17+0.j]]), matrix([[6.18376913e-17+0.j]]), matrix([[8.66238657e-17+0.j]]), matrix([[2.40836399e-17+0.j]]), matrix([[1.80042919e-16+0.j]]), matrix([[-1.8016097e-16+0.j]])]\n",
      "[matrix([[0.-3.52410621e-32j]]), matrix([[0.+2.7336838e-32j]]), matrix([[0.-1.34844669e-32j]]), matrix([[0.+7.8817928e-33j]]), matrix([[0.-2.6446308e-33j]]), matrix([[0.+6.26874128e-33j]]), matrix([[0.+8.59414242e-33j]]), matrix([[0.-5.20445422e-33j]]), matrix([[0.-1.28485977e-33j]]), matrix([[0.+0.j]])]\n",
      "[matrix([[-3.85380386e-16+0.j]]), matrix([[2.63406194e-16+0.j]]), matrix([[-3.275382e-16+0.j]]), matrix([[3.54680956e-16+0.j]]), matrix([[-2.56768661e-16+0.j]]), matrix([[3.1267457e-16+0.j]]), matrix([[-2.64779632e-16+0.j]]), matrix([[2.67134147e-16+0.j]]), matrix([[-3.02043327e-16+0.j]]), matrix([[3.64001619e-16+0.j]])]\n"
     ]
    }
   ],
   "source": [
    "expect_single_part_x = []    # create a list for expectation values of x and i\n",
    "\n",
    "for i in range(10):\n",
    "    expect_single_part_x.append(ground.H * S_single_part[3 * i] * ground)\n",
    "print(expect_single_part_x)\n",
    "\n",
    "\n",
    "expect_single_part_y = []    # create a list for expectation values of y and i\n",
    "\n",
    "for i in range(10):\n",
    "    expect_single_part_y.append(ground.H * S_single_part[3*i + 1] * ground)\n",
    "print(expect_single_part_y)\n",
    "\n",
    "\n",
    "expect_single_part_z = []    # create a list for expectation values of z and i\n",
    "\n",
    "for i in range(10):\n",
    "    expect_single_part_z.append(ground.H * S_single_part[3*i + 2] * ground)\n",
    "print(expect_single_part_z)\n",
    "                                "
   ]
  },
  {
   "cell_type": "markdown",
   "metadata": {},
   "source": [
    "## Section I\n",
    "Now let's find the expectation value of the following operator:\n",
    "\n",
    "$\\vec{S}^{(1)}.\\vec{S}^{(i)} = S_x^{(1)}S_x^{(i)} + S_y^{(1)}S_y^{(i)} + S_z^{(1)}S_z^{(i)}$\n",
    "\n",
    "This expectation value is called the spin-spin correlation value."
   ]
  },
  {
   "cell_type": "code",
   "execution_count": 18,
   "metadata": {},
   "outputs": [
    {
     "data": {
      "image/png": "[encoded data removed]",
      "text/plain": [
       "<Figure size 432x288 with 1 Axes>"
      ]
     },
     "metadata": {
      "needs_background": "light"
     },
     "output_type": "display_data"
    }
   ],
   "source": [
    "ss_cor = []    # create a list of the operators\n",
    "\n",
    "for i in range(10):    # fill in the list\n",
    "    ss_cor.append(S_single_part[0] * S_single_part[3*i] +\n",
    "                  S_single_part[1] * S_single_part[3*i + 1] +\n",
    "                  S_single_part[2] * S_single_part[3*i + 2])\n",
    "\n",
    "exp_vals = np.zeros(10)    # create an array of floats for the expectation values\n",
    "for i in range(10):\n",
    "    exp_vals[i] = np.real(ground.H * ss_cor[i] * ground)[0, 0]     # calculate the expectation value for the ground state\n",
    "\n",
    "    \n",
    "plt.plot(np.linspace(1, 10, 10), exp_vals)\n",
    "plt.title(\"spin-spin correlations\")\n",
    "plt.xlabel(\"spin site\")\n",
    "plt.ylabel(\"correlation\")\n",
    "plt.show()"
   ]
  },
  {
   "cell_type": "code",
   "execution_count": 20,
   "metadata": {},
   "outputs": [
    {
     "data": {
      "image/png": "[encoded data removed]",
      "text/plain": [
       "<Figure size 432x288 with 1 Axes>"
      ]
     },
     "metadata": {
      "needs_background": "light"
     },
     "output_type": "display_data"
    }
   ],
   "source": [
    "plt.plot(np.linspace(1, 10, 10), np.absolute(exp_vals))    # plot the abs. of exp_vals\n",
    "plt.show()"
   ]
  },
  {
   "cell_type": "markdown",
   "metadata": {},
   "source": [
    "As we can see, the absolute value of the spin-spin correlation value drops drastically as we move away\n",
    "from site 1."
   ]
  }
 ],
 "metadata": {
  "kernelspec": {
   "display_name": "Python 3",
   "language": "python",
   "name": "python3"
  },
  "language_info": {
   "codemirror_mode": {
    "name": "ipython",
    "version": 3
   },
   "file_extension": ".py",
   "mimetype": "text/x-python",
   "name": "python",
   "nbconvert_exporter": "python",
   "pygments_lexer": "ipython3",
   "version": "3.8.3"
  }
 },
 "nbformat": 4,
 "nbformat_minor": 4
}
